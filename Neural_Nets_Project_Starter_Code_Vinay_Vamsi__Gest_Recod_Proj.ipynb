{
 "cells": [
  {
   "cell_type": "markdown",
   "metadata": {
    "id": "12orQI7CL7K0"
   },
   "source": [
    "# Gesture Recognition\n",
    "In this group project, you are going to build a 3D Conv model that will be able to predict the 5 gestures correctly. Please import the following libraries to get started."
   ]
  },
  {
   "cell_type": "code",
   "execution_count": 1,
   "metadata": {
    "colab": {
     "base_uri": "https://localhost:8080/"
    },
    "id": "5dm45tVUL_mo",
    "outputId": "891c7ff3-0f57-4055-9168-be87be90c3d3"
   },
   "outputs": [],
   "source": [
    "#from google.colab import drive\n",
    "#drive.mount('/content/drive')"
   ]
  },
  {
   "cell_type": "code",
   "execution_count": 2,
   "metadata": {
    "id": "G3R13ni_L7K9"
   },
   "outputs": [],
   "source": [
    "import numpy as np\n",
    "import os\n",
    "#from scipy.ndimage import imread, imresize (depricated)\n",
    "from skimage.io import imread\n",
    "from skimage.transform import resize\n",
    "import datetime\n",
    "import os"
   ]
  },
  {
   "cell_type": "markdown",
   "metadata": {
    "id": "h_npyy9lL7K-"
   },
   "source": [
    "We set the random seed so that the results don't vary drastically."
   ]
  },
  {
   "cell_type": "code",
   "execution_count": 3,
   "metadata": {
    "id": "nYfi3HRWL7K-"
   },
   "outputs": [
    {
     "name": "stderr",
     "output_type": "stream",
     "text": [
      "Using TensorFlow backend.\n"
     ]
    }
   ],
   "source": [
    "np.random.seed(30)\n",
    "import random as rn\n",
    "rn.seed(30)\n",
    "from keras import backend as K\n",
    "import tensorflow as tf\n",
    "tf.set_random_seed(30) #old code need changes\n",
    "#tf.random.set_seed(30)"
   ]
  },
  {
   "cell_type": "markdown",
   "metadata": {
    "id": "cXTQTga9L7K_"
   },
   "source": [
    "In this block, you read the folder names for training and validation. You also set the `batch_size` here. Note that you set the batch size in such a way that you are able to use the GPU in full capacity. You keep increasing the batch size until the machine throws an error."
   ]
  },
  {
   "cell_type": "code",
   "execution_count": 4,
   "metadata": {
    "colab": {
     "base_uri": "https://localhost:8080/"
    },
    "id": "b-1feWH0L7K_",
    "outputId": "4d57c640-a89c-4af2-efbf-f6d8f23a8a53"
   },
   "outputs": [
    {
     "name": "stdout",
     "output_type": "stream",
     "text": [
      "Exp_2_Vinay_Vamsi_Neural_Nets_Project_Starter_Code-Backup.ipynb\r\n",
      "Exp_3_Vinay_Vamsi_Neural_Nets_Project_Starter_Code.ipynb\r\n",
      "Exp_Vinay_Vamsi_Neural_Nets_Project_Starter_Code-Copy1.ipynb\r\n",
      "First_save_vinay_Neural_Nets_Project_Starter_Code-Copy1.ipynb\r\n",
      "First_save_vinay_Neural_Nets_Project_Starter_Code.ipynb\r\n",
      "Neural_Nets_Project_Starter_Code.ipynb\r\n",
      "Project_data\r\n",
      "Project_data.zip\r\n",
      "Second_save_vinay_Neural_Nets_Project_Starter_Code.ipynb\r\n",
      "Vinay_Neural_Nets_Project_Starter_Code-Copy1.ipynb\r\n",
      "Vinay_Neural_Nets_Project_Starter_Code_conv3D.ipynb\r\n",
      "Vinay_Vamsi_Neural_Nets_Project_Starter_Code-Backup.ipynb\r\n",
      "Vinay_Vamsi_Neural_Nets_Project_Starter_Code.ipynb\r\n",
      "Ziip_filed_download.ipynb\r\n",
      "model_init_2020-12-2407_10_03.006800\r\n",
      "model_init_2020-12-2412_25_32.113956\r\n",
      "model_init_2020-12-2415_04_34.679294\r\n",
      "model_init_2020-12-2415_36_49.853551\r\n",
      "model_init_2020-12-2417_48_13.633473\r\n",
      "model_init_2020-12-2517_25_13.811781\r\n"
     ]
    }
   ],
   "source": [
    "!ls"
   ]
  },
  {
   "cell_type": "code",
   "execution_count": 5,
   "metadata": {
    "id": "yKWyH0W2L7LB"
   },
   "outputs": [],
   "source": [
    "train_doc = np.random.permutation(open('./Project_data/train.csv').readlines())\n",
    "val_doc = np.random.permutation(open('./Project_data/val.csv').readlines())\n",
    "batch_size = 30 #experiment with the batch size\n",
    "# Tried with less epoch first very accuracy was less"
   ]
  },
  {
   "cell_type": "markdown",
   "metadata": {
    "id": "gAIlh7a3L7LB"
   },
   "source": [
    "## Generator\n",
    "This is one of the most important part of the code. The overall structure of the generator has been given. In the generator, you are going to preprocess the images as you have images of 2 different dimensions as well as create a batch of video frames. You have to experiment with `img_idx`, `y`,`z` and normalization such that you get high accuracy."
   ]
  },
  {
   "cell_type": "code",
   "execution_count": 6,
   "metadata": {
    "id": "ZYIXWXr-L7LC"
   },
   "outputs": [],
   "source": [
    "image_x_shape = 84\n",
    "image_y_shape = 84"
   ]
  },
  {
   "cell_type": "code",
   "execution_count": 7,
   "metadata": {
    "id": "RkMQc_MGL7LC"
   },
   "outputs": [],
   "source": [
    "def generator(source_path, folder_list, batch_size):\n",
    "    print( 'Source path = ', source_path, '; batch size =', batch_size)\n",
    "    img_idx = [0,4,8,10,12,14,16,18,20,22,24,26,27,28,29] #create a list of image numbers you want to use for a particular video\n",
    "    x, y, z = len(img_idx), image_x_shape, image_y_shape\n",
    "    while True:\n",
    "        t = np.random.permutation(folder_list)\n",
    "        total_folders = len(folder_list)\n",
    "        num_batches = total_folders // batch_size #<TODO># calculate the number of batches \n",
    "        #forgot to divide batch size than only one epoch running \n",
    "        for batch in range(num_batches): # we iterate over the number of batches\n",
    "            batch_data = np.zeros((batch_size,x,y,z,3)) # x is the number of images you use for each video, (y,z) is the final size of the input images and 3 is the number of channels RGB\n",
    "            batch_labels = np.zeros((batch_size,5)) # batch_labels is the one hot representation of the output\n",
    "            for folder in range(batch_size): # iterate over the batch_size\n",
    "                imgs = os.listdir(source_path+'/'+ t[folder + (batch*batch_size)].split(';')[0]) # read all the images in the folder\n",
    "                for idx,item in enumerate(img_idx): #  Iterate iver the frames/images of a folder to read them in\n",
    "                    image = imread(source_path+'/'+ t[folder + (batch*batch_size)].strip().split(';')[0]+'/'+imgs[item]).astype(np.float32)\n",
    "                    resizedImage = resize(image, (y, z),anti_aliasing=True)\n",
    "                    #crop the images and resize them. Note that the images are of 2 different shape \n",
    "                    #and the conv3D will throw error if the inputs in a batch have different shapes\n",
    "                    \n",
    "                    batch_data[folder,idx,:,:,0] = resizedImage[:, :, 0] / 255 #normalise and feed in the image\n",
    "                    batch_data[folder,idx,:,:,1] = resizedImage[:, :, 1] / 255 #normalise and feed in the image\n",
    "                    batch_data[folder,idx,:,:,2] = resizedImage[:, :, 2] / 255 #normalise and feed in the image\n",
    "                    \n",
    "                batch_labels[folder, int(t[folder + (batch*batch_size)].strip().split(';')[2])] = 1\n",
    "            yield batch_data, batch_labels #you yield the batch_data and the batch_labels, remember what does yield do\n",
    "            \n",
    "            \n",
    "        missing_count = total_folders - (num_batches * batch_size)\n",
    "        for folder in range(missing_count):\n",
    "            imgs = os.listdir(source_path+'/'+ t[folder + (batch*batch_size)].split(';')[0]) # read all the images in the folder\n",
    "            for idx,item in enumerate(img_idx): #  Iterate iver the frames/images of a folder to read them in\n",
    "                image = imread(source_path+'/'+ t[folder + (batch*batch_size)].strip().split(';')[0]+'/'+imgs[item]).astype(np.float32)\n",
    "                resizedImage = resize(image, (y, z),anti_aliasing=True)\n",
    "                #crop the images and resize them. Note that the images are of 2 different shape \n",
    "                #and the conv3D will throw error if the inputs in a batch have different shapes\n",
    "\n",
    "                batch_data[folder,idx,:,:,0] = resizedImage[:, :, 0] / 255 #normalise and feed in the image\n",
    "                batch_data[folder,idx,:,:,1] = resizedImage[:, :, 1] / 255 #normalise and feed in the image\n",
    "                batch_data[folder,idx,:,:,2] = resizedImage[:, :, 2] / 255 #normalise and feed in the image\n",
    "\n",
    "            batch_labels[folder, int(t[folder + (batch*batch_size)].strip().split(';')[2])] = 1\n",
    "        yield batch_data, batch_labels\n",
    "        # write the code for the remaining data points which are left after full batches\n"
   ]
  },
  {
   "cell_type": "markdown",
   "metadata": {
    "id": "RYaQ9tMmL7LD"
   },
   "source": [
    "Note here that a video is represented above in the generator as (number of images, height, width, number of channels). Take this into consideration while creating the model architecture."
   ]
  },
  {
   "cell_type": "code",
   "execution_count": 8,
   "metadata": {
    "colab": {
     "base_uri": "https://localhost:8080/"
    },
    "id": "5S1MQIJLL7LE",
    "outputId": "f871637a-970f-46f3-c4bd-0cd3385ae5e4"
   },
   "outputs": [
    {
     "name": "stdout",
     "output_type": "stream",
     "text": [
      "# training sequences = 663\n",
      "# validation sequences = 100\n",
      "# epochs = 30\n"
     ]
    }
   ],
   "source": [
    "curr_dt_time = datetime.datetime.now()\n",
    "train_path = './Project_data/train'\n",
    "val_path = './Project_data/val'\n",
    "num_train_sequences = len(train_doc)\n",
    "print('# training sequences =', num_train_sequences)\n",
    "num_val_sequences = len(val_doc)\n",
    "print('# validation sequences =', num_val_sequences)\n",
    "num_epochs = 30 # choose the number of epochs\n",
    "print ('# epochs =', num_epochs)"
   ]
  },
  {
   "cell_type": "markdown",
   "metadata": {
    "id": "wz7-tprPL7LE"
   },
   "source": [
    "## CNN+Conv2D LSTM Model:\n",
    "Here you make the model using different functionalities that Keras provides. Remember to use `Conv3D` and `MaxPooling3D` and not `Conv2D` and `Maxpooling2D` for a 3D convolution model. You would want to use `TimeDistributed` while building a Conv2D + RNN model. Also remember that the last layer is the softmax. Design the network in such a way that the model is able to give good accuracy on the least number of parameters so that it can fit in the memory of the webcam."
   ]
  },
  {
   "cell_type": "code",
   "execution_count": 9,
   "metadata": {
    "id": "o48Xiz_FL7LF"
   },
   "outputs": [],
   "source": [
    "from keras.models import Sequential, Model\n",
    "from sklearn.metrics import roc_auc_score\n",
    "from keras.layers import Dense, GRU, LSTM,Flatten, TimeDistributed, Flatten, BatchNormalization, Activation, Conv2D, Dropout\n",
    "from keras.layers.convolutional import Conv3D, MaxPooling3D, MaxPooling2D\n",
    "from keras.callbacks import ModelCheckpoint, ReduceLROnPlateau, EarlyStopping\n",
    "from keras import optimizers, regularizers\n",
    "from keras.regularizers import l2\n",
    "import keras\n",
    "\n",
    "#write your model here\n",
    "\n",
    "# Model written in below cells as sometimes need to run this cell seperaterly\n"
   ]
  },
  {
   "cell_type": "markdown",
   "metadata": {
    "id": "Mnp7AxGML7LG"
   },
   "source": [
    "Now that you have written the model, the next step is to `compile` the model. When you print the `summary` of the model, you'll see the total number of parameters you have to train."
   ]
  },
  {
   "cell_type": "code",
   "execution_count": 10,
   "metadata": {
    "id": "3TVu5N-WL7LG"
   },
   "outputs": [],
   "source": [
    "# Without reduce LR very long time to train the model\n",
    "reduceLR = ReduceLROnPlateau(monitor = \"val_loss\", factor = 0.1, patience = 2,\n",
    "                             verbose = 1, mode = \"auto\", cooldown = 0)"
   ]
  },
  {
   "cell_type": "code",
   "execution_count": 11,
   "metadata": {
    "id": "CrMgNKONL7LG"
   },
   "outputs": [],
   "source": [
    "class DecayLR(keras.callbacks.Callback):\n",
    "    \n",
    "    def __init__(self, base_lr=0.01, decay_epoch=1):\n",
    "        super(DecayLR, self).__init__()\n",
    "        self.base_lr = base_lr\n",
    "        self.lr_history = []\n",
    "        self.decay_epoch = decay_epoch\n",
    "        \n",
    "    def on_train_begin(self, logs={}):\n",
    "        K.set_value(self.model.optimizer.lr, self.base_lr)\n",
    "        \n",
    "    def on_epoch_end(self, epoch, logs={}):\n",
    "        new_lr = self.base_lr * (0.5 ** (epoch // self.decay_epoch))\n",
    "        self.lr_history.append(K.get_value(self.model.optimizer.lr))\n",
    "        K.set_value(self.model.optimizer.lr, new_lr)"
   ]
  },
  {
   "cell_type": "code",
   "execution_count": 12,
   "metadata": {
    "id": "GIYN7q_XL7LH"
   },
   "outputs": [],
   "source": [
    "class Convolution2DWithLSTM():\n",
    "    def __init__(self):\n",
    "        return None\n",
    "    \n",
    "    def model(self, batch_size):\n",
    "        cnn_model = Sequential()\n",
    "        cnn_model.add(TimeDistributed(Conv2D(32, (1, 1), padding='same'), input_shape=(15, image_x_shape, image_y_shape, 3)))\n",
    "        cnn_model.add(TimeDistributed(Activation('relu')))\n",
    "        cnn_model.add(TimeDistributed(MaxPooling2D((3, 3), strides = (2,2))))\n",
    "        cnn_model.add(TimeDistributed(BatchNormalization()))\n",
    "        \n",
    "        cnn_model.add(TimeDistributed(Conv2D(32, (3, 3), padding='same')))\n",
    "        cnn_model.add(TimeDistributed(Activation('relu')))\n",
    "        cnn_model.add(TimeDistributed(MaxPooling2D((3, 3), strides = (2,2))))\n",
    "        cnn_model.add(TimeDistributed(BatchNormalization()))\n",
    "        \n",
    "        cnn_model.add(TimeDistributed(Conv2D(64, (3, 3), padding='same', kernel_regularizer=l2(0.01), bias_regularizer=l2(0.01))))\n",
    "        cnn_model.add(TimeDistributed(Activation('relu')))\n",
    "        cnn_model.add(TimeDistributed(BatchNormalization()))\n",
    "        cnn_model.add(Dropout(0.25))\n",
    "        \n",
    "        cnn_model.add(TimeDistributed(Conv2D(64, (3, 3), padding='same', kernel_regularizer=l2(0.01), bias_regularizer=l2(0.01))))\n",
    "        cnn_model.add(TimeDistributed(Activation('relu')))\n",
    "        \n",
    "        \n",
    "        cnn_model.add(TimeDistributed(MaxPooling2D((3, 3))))\n",
    "        \n",
    "        cnn_model.add(TimeDistributed(Conv2D(64, (3, 3), padding='same')))\n",
    "        cnn_model.add(TimeDistributed(Activation('relu')))\n",
    "        \n",
    "        cnn_model.add(Dropout(0.25))\n",
    "        \n",
    "        cnn_model.add(TimeDistributed(Conv2D(128, (3, 3), padding='same', kernel_regularizer=l2(0.01), bias_regularizer=l2(0.01))))\n",
    "        cnn_model.add(TimeDistributed(Activation('relu')))\n",
    "\n",
    "        cnn_model.add(Dropout(0.50))\n",
    "        \n",
    "        cnn_model.add(TimeDistributed(Conv2D(256, (5, 5), padding='same', kernel_regularizer=l2(0.01), bias_regularizer=l2(0.01))))\n",
    "        cnn_model.add(TimeDistributed(Activation('relu')))\n",
    "\n",
    "        \n",
    "        cnn_model.add(TimeDistributed(Flatten()))\n",
    "\n",
    "        \n",
    "        cnn_model.add(Dense(16))\n",
    "        cnn_model.add(Dropout(.50))\n",
    "        cnn_model.add(LSTM(64, return_sequences=False))\n",
    "\n",
    "        cnn_model.add(Dense(5, activation='softmax'))\n",
    "        return cnn_model"
   ]
  },
  {
   "cell_type": "code",
   "execution_count": 13,
   "metadata": {
    "colab": {
     "base_uri": "https://localhost:8080/"
    },
    "id": "uZUjGaaqL7LH",
    "outputId": "e7a0a68d-39c7-43b1-8948-fb382f99435e",
    "scrolled": false
   },
   "outputs": [
    {
     "name": "stdout",
     "output_type": "stream",
     "text": [
      "_________________________________________________________________\n",
      "Layer (type)                 Output Shape              Param #   \n",
      "=================================================================\n",
      "time_distributed_1 (TimeDist (None, 15, 84, 84, 32)    128       \n",
      "_________________________________________________________________\n",
      "time_distributed_2 (TimeDist (None, 15, 84, 84, 32)    0         \n",
      "_________________________________________________________________\n",
      "time_distributed_3 (TimeDist (None, 15, 41, 41, 32)    0         \n",
      "_________________________________________________________________\n",
      "time_distributed_4 (TimeDist (None, 15, 41, 41, 32)    128       \n",
      "_________________________________________________________________\n",
      "time_distributed_5 (TimeDist (None, 15, 41, 41, 32)    9248      \n",
      "_________________________________________________________________\n",
      "time_distributed_6 (TimeDist (None, 15, 41, 41, 32)    0         \n",
      "_________________________________________________________________\n",
      "time_distributed_7 (TimeDist (None, 15, 20, 20, 32)    0         \n",
      "_________________________________________________________________\n",
      "time_distributed_8 (TimeDist (None, 15, 20, 20, 32)    128       \n",
      "_________________________________________________________________\n",
      "time_distributed_9 (TimeDist (None, 15, 20, 20, 64)    18496     \n",
      "_________________________________________________________________\n",
      "time_distributed_10 (TimeDis (None, 15, 20, 20, 64)    0         \n",
      "_________________________________________________________________\n",
      "time_distributed_11 (TimeDis (None, 15, 20, 20, 64)    256       \n",
      "_________________________________________________________________\n",
      "dropout_1 (Dropout)          (None, 15, 20, 20, 64)    0         \n",
      "_________________________________________________________________\n",
      "time_distributed_12 (TimeDis (None, 15, 20, 20, 64)    36928     \n",
      "_________________________________________________________________\n",
      "time_distributed_13 (TimeDis (None, 15, 20, 20, 64)    0         \n",
      "_________________________________________________________________\n",
      "time_distributed_14 (TimeDis (None, 15, 6, 6, 64)      0         \n",
      "_________________________________________________________________\n",
      "time_distributed_15 (TimeDis (None, 15, 6, 6, 64)      36928     \n",
      "_________________________________________________________________\n",
      "time_distributed_16 (TimeDis (None, 15, 6, 6, 64)      0         \n",
      "_________________________________________________________________\n",
      "dropout_2 (Dropout)          (None, 15, 6, 6, 64)      0         \n",
      "_________________________________________________________________\n",
      "time_distributed_17 (TimeDis (None, 15, 6, 6, 128)     73856     \n",
      "_________________________________________________________________\n",
      "time_distributed_18 (TimeDis (None, 15, 6, 6, 128)     0         \n",
      "_________________________________________________________________\n",
      "dropout_3 (Dropout)          (None, 15, 6, 6, 128)     0         \n",
      "_________________________________________________________________\n",
      "time_distributed_19 (TimeDis (None, 15, 6, 6, 256)     819456    \n",
      "_________________________________________________________________\n",
      "time_distributed_20 (TimeDis (None, 15, 6, 6, 256)     0         \n",
      "_________________________________________________________________\n",
      "time_distributed_21 (TimeDis (None, 15, 9216)          0         \n",
      "_________________________________________________________________\n",
      "dense_1 (Dense)              (None, 15, 16)            147472    \n",
      "_________________________________________________________________\n",
      "dropout_4 (Dropout)          (None, 15, 16)            0         \n",
      "_________________________________________________________________\n",
      "lstm_1 (LSTM)                (None, 64)                20736     \n",
      "_________________________________________________________________\n",
      "dense_2 (Dense)              (None, 5)                 325       \n",
      "=================================================================\n",
      "Total params: 1,164,085\n",
      "Trainable params: 1,163,829\n",
      "Non-trainable params: 256\n",
      "_________________________________________________________________\n",
      "None\n"
     ]
    }
   ],
   "source": [
    "obj = Convolution2DWithLSTM()\n",
    "model = obj.model(batch_size)\n",
    "optimiser = optimizers.Adam() #write your optimizer\n",
    "\n",
    "model.compile(optimizer=optimiser, loss='categorical_crossentropy', metrics=['categorical_accuracy'])\n",
    "print (model.summary())"
   ]
  },
  {
   "cell_type": "markdown",
   "metadata": {
    "id": "odlkaBLJL7LI"
   },
   "source": [
    "Let us create the `train_generator` and the `val_generator` which will be used in `.fit_generator`."
   ]
  },
  {
   "cell_type": "code",
   "execution_count": 14,
   "metadata": {
    "id": "XhJKortdL7LJ"
   },
   "outputs": [],
   "source": [
    "train_generator = generator(train_path, train_doc, batch_size)\n",
    "val_generator = generator(val_path, val_doc, batch_size)"
   ]
  },
  {
   "cell_type": "code",
   "execution_count": 15,
   "metadata": {
    "id": "zhxcJyPBL7LJ"
   },
   "outputs": [],
   "source": [
    "model_name = 'model_init' + '_' + str(curr_dt_time).replace(' ','').replace(':','_') + '/'\n",
    "    \n",
    "if not os.path.exists(model_name):\n",
    "    os.mkdir(model_name)\n",
    "    \n",
    "early_stopping = EarlyStopping(patience=3)  \n",
    "\n",
    "#  Not used early stopping than getting very low accuracy (must use)\n",
    "\n",
    "filepath = model_name + 'model-{epoch:05d}-{loss:.5f}-{categorical_accuracy:.5f}-{val_loss:.5f}-{val_categorical_accuracy:.5f}.h5'\n",
    "\n",
    "checkpoint = ModelCheckpoint(filepath, monitor='val_loss', verbose=1, save_best_only=False, save_weights_only=False, mode='auto', period=1)\n",
    "\n",
    "LR = DecayLR(base_lr=0.1) # write the REducelronplateau code here\n",
    "\n",
    "callbacks_list = [checkpoint,reduceLR]"
   ]
  },
  {
   "cell_type": "markdown",
   "metadata": {
    "id": "DxoVQUrqL7LJ"
   },
   "source": [
    "The `steps_per_epoch` and `validation_steps` are used by `fit_generator` to decide the number of next() calls it need to make."
   ]
  },
  {
   "cell_type": "code",
   "execution_count": 16,
   "metadata": {
    "id": "KrZEe4h0L7LJ"
   },
   "outputs": [],
   "source": [
    "if (num_train_sequences%batch_size) == 0:\n",
    "    steps_per_epoch = int(num_train_sequences/batch_size)\n",
    "else:\n",
    "    steps_per_epoch = (num_train_sequences//batch_size) + 1\n",
    "\n",
    "if (num_val_sequences%batch_size) == 0:\n",
    "    validation_steps = int(num_val_sequences/batch_size)\n",
    "else:\n",
    "    validation_steps = (num_val_sequences//batch_size) + 1"
   ]
  },
  {
   "cell_type": "markdown",
   "metadata": {
    "id": "L3IZ6PchL7LK"
   },
   "source": [
    "Let us now fit the model. This will start training the model and with the help of the checkpoints, you'll be able to save the model at the end of each epoch."
   ]
  },
  {
   "cell_type": "code",
   "execution_count": 17,
   "metadata": {
    "colab": {
     "base_uri": "https://localhost:8080/"
    },
    "id": "jCLpn5IFL7LK",
    "outputId": "8385d622-46a8-436c-c349-bc6ecc8edb4a",
    "scrolled": false
   },
   "outputs": [
    {
     "name": "stdout",
     "output_type": "stream",
     "text": [
      "Source path =  ./Project_data/val ; batch size = 30\n",
      "Source path =  ./Project_data/train Epoch 1/30\n",
      "; batch size = 30\n"
     ]
    },
    {
     "name": "stderr",
     "output_type": "stream",
     "text": [
      "/mnt/disks/user/anaconda3/lib/python3.6/site-packages/skimage/transform/_warps.py:105: UserWarning: The default mode, 'constant', will be changed to 'reflect' in skimage 0.15.\n",
      "  warn(\"The default mode, 'constant', will be changed to 'reflect' in \"\n"
     ]
    },
    {
     "name": "stdout",
     "output_type": "stream",
     "text": [
      "23/23 [==============================] - 188s 8s/step - loss: 4.2472 - categorical_accuracy: 0.2681 - val_loss: 3.1889 - val_categorical_accuracy: 0.3583\n",
      "\n",
      "Epoch 00001: saving model to model_init_2020-12-2517_25_36.748722/model-00001-4.24718-0.26812-3.18887-0.35833.h5\n",
      "Epoch 2/30\n",
      "23/23 [==============================] - 109s 5s/step - loss: 2.5884 - categorical_accuracy: 0.4029 - val_loss: 1.9749 - val_categorical_accuracy: 0.5250\n",
      "\n",
      "Epoch 00002: saving model to model_init_2020-12-2517_25_36.748722/model-00002-2.58838-0.40290-1.97489-0.52500.h5\n",
      "Epoch 3/30\n",
      "23/23 [==============================] - 108s 5s/step - loss: 1.8297 - categorical_accuracy: 0.5348 - val_loss: 1.6540 - val_categorical_accuracy: 0.4667\n",
      "\n",
      "Epoch 00003: saving model to model_init_2020-12-2517_25_36.748722/model-00003-1.82966-0.53478-1.65397-0.46667.h5\n",
      "Epoch 4/30\n",
      "23/23 [==============================] - 111s 5s/step - loss: 1.6013 - categorical_accuracy: 0.5203 - val_loss: 1.4648 - val_categorical_accuracy: 0.5833\n",
      "\n",
      "Epoch 00004: saving model to model_init_2020-12-2517_25_36.748722/model-00004-1.60128-0.52029-1.46481-0.58333.h5\n",
      "Epoch 5/30\n",
      "23/23 [==============================] - 125s 5s/step - loss: 1.4338 - categorical_accuracy: 0.5768 - val_loss: 1.2658 - val_categorical_accuracy: 0.6500\n",
      "\n",
      "Epoch 00005: saving model to model_init_2020-12-2517_25_36.748722/model-00005-1.43381-0.57681-1.26576-0.65000.h5\n",
      "Epoch 6/30\n",
      "23/23 [==============================] - 93s 4s/step - loss: 1.3076 - categorical_accuracy: 0.6130 - val_loss: 1.2488 - val_categorical_accuracy: 0.6417\n",
      "\n",
      "Epoch 00006: saving model to model_init_2020-12-2517_25_36.748722/model-00006-1.30758-0.61304-1.24882-0.64167.h5\n",
      "Epoch 7/30\n",
      "23/23 [==============================] - 80s 3s/step - loss: 1.1284 - categorical_accuracy: 0.6609 - val_loss: 1.2841 - val_categorical_accuracy: 0.6417\n",
      "\n",
      "Epoch 00007: saving model to model_init_2020-12-2517_25_36.748722/model-00007-1.12838-0.66087-1.28414-0.64167.h5\n",
      "Epoch 8/30\n",
      "23/23 [==============================] - 95s 4s/step - loss: 1.0255 - categorical_accuracy: 0.7043 - val_loss: 1.2246 - val_categorical_accuracy: 0.5417\n",
      "\n",
      "Epoch 00008: saving model to model_init_2020-12-2517_25_36.748722/model-00008-1.02555-0.70435-1.22462-0.54167.h5\n",
      "Epoch 9/30\n",
      "23/23 [==============================] - 91s 4s/step - loss: 1.0008 - categorical_accuracy: 0.7101 - val_loss: 1.0518 - val_categorical_accuracy: 0.6250\n",
      "\n",
      "Epoch 00009: saving model to model_init_2020-12-2517_25_36.748722/model-00009-1.00081-0.71014-1.05182-0.62500.h5\n",
      "Epoch 10/30\n",
      "23/23 [==============================] - 90s 4s/step - loss: 1.0238 - categorical_accuracy: 0.6841 - val_loss: 1.1947 - val_categorical_accuracy: 0.6333\n",
      "\n",
      "Epoch 00010: saving model to model_init_2020-12-2517_25_36.748722/model-00010-1.02379-0.68406-1.19469-0.63333.h5\n",
      "Epoch 11/30\n",
      "23/23 [==============================] - 94s 4s/step - loss: 0.9458 - categorical_accuracy: 0.7188 - val_loss: 1.1071 - val_categorical_accuracy: 0.6667\n",
      "\n",
      "Epoch 00011: saving model to model_init_2020-12-2517_25_36.748722/model-00011-0.94585-0.71884-1.10709-0.66667.h5\n",
      "\n",
      "Epoch 00011: ReduceLROnPlateau reducing learning rate to 0.00010000000474974513.\n",
      "Epoch 12/30\n",
      "23/23 [==============================] - 79s 3s/step - loss: 0.7914 - categorical_accuracy: 0.8043 - val_loss: 0.8997 - val_categorical_accuracy: 0.7833\n",
      "\n",
      "Epoch 00012: saving model to model_init_2020-12-2517_25_36.748722/model-00012-0.79139-0.80435-0.89969-0.78333.h5\n",
      "Epoch 13/30\n",
      "23/23 [==============================] - 77s 3s/step - loss: 0.7170 - categorical_accuracy: 0.8348 - val_loss: 0.9458 - val_categorical_accuracy: 0.7333\n",
      "\n",
      "Epoch 00013: saving model to model_init_2020-12-2517_25_36.748722/model-00013-0.71703-0.83478-0.94575-0.73333.h5\n",
      "Epoch 14/30\n",
      "23/23 [==============================] - 96s 4s/step - loss: 0.6846 - categorical_accuracy: 0.8493 - val_loss: 0.9228 - val_categorical_accuracy: 0.7500\n",
      "\n",
      "Epoch 00014: saving model to model_init_2020-12-2517_25_36.748722/model-00014-0.68462-0.84928-0.92281-0.75000.h5\n",
      "\n",
      "Epoch 00014: ReduceLROnPlateau reducing learning rate to 1.0000000474974514e-05.\n",
      "Epoch 15/30\n",
      "23/23 [==============================] - 96s 4s/step - loss: 0.6540 - categorical_accuracy: 0.8725 - val_loss: 0.9062 - val_categorical_accuracy: 0.7500\n",
      "\n",
      "Epoch 00015: saving model to model_init_2020-12-2517_25_36.748722/model-00015-0.65400-0.87246-0.90625-0.75000.h5\n",
      "Epoch 16/30\n",
      "23/23 [==============================] - 92s 4s/step - loss: 0.6598 - categorical_accuracy: 0.8681 - val_loss: 0.8742 - val_categorical_accuracy: 0.7750\n",
      "\n",
      "Epoch 00016: saving model to model_init_2020-12-2517_25_36.748722/model-00016-0.65981-0.86812-0.87419-0.77500.h5\n",
      "Epoch 17/30\n",
      "23/23 [==============================] - 83s 4s/step - loss: 0.6316 - categorical_accuracy: 0.8739 - val_loss: 0.8795 - val_categorical_accuracy: 0.7750\n",
      "\n",
      "Epoch 00017: saving model to model_init_2020-12-2517_25_36.748722/model-00017-0.63162-0.87391-0.87948-0.77500.h5\n",
      "Epoch 18/30\n",
      "23/23 [==============================] - 92s 4s/step - loss: 0.6208 - categorical_accuracy: 0.8754 - val_loss: 0.8956 - val_categorical_accuracy: 0.7833\n",
      "\n",
      "Epoch 00018: saving model to model_init_2020-12-2517_25_36.748722/model-00018-0.62075-0.87536-0.89560-0.78333.h5\n",
      "\n",
      "Epoch 00018: ReduceLROnPlateau reducing learning rate to 1.0000000656873453e-06.\n",
      "Epoch 19/30\n",
      "23/23 [==============================] - 78s 3s/step - loss: 0.6511 - categorical_accuracy: 0.8536 - val_loss: 0.8584 - val_categorical_accuracy: 0.7833\n",
      "\n",
      "Epoch 00019: saving model to model_init_2020-12-2517_25_36.748722/model-00019-0.65112-0.85362-0.85844-0.78333.h5\n",
      "Epoch 20/30\n",
      "23/23 [==============================] - 77s 3s/step - loss: 0.6354 - categorical_accuracy: 0.8710 - val_loss: 0.8958 - val_categorical_accuracy: 0.7667\n",
      "\n",
      "Epoch 00020: saving model to model_init_2020-12-2517_25_36.748722/model-00020-0.63539-0.87101-0.89583-0.76667.h5\n",
      "Epoch 21/30\n",
      "23/23 [==============================] - 78s 3s/step - loss: 0.6267 - categorical_accuracy: 0.8652 - val_loss: 0.9263 - val_categorical_accuracy: 0.7583\n",
      "\n",
      "Epoch 00021: saving model to model_init_2020-12-2517_25_36.748722/model-00021-0.62672-0.86522-0.92633-0.75833.h5\n",
      "\n",
      "Epoch 00021: ReduceLROnPlateau reducing learning rate to 1.0000001111620805e-07.\n",
      "Epoch 22/30\n",
      "23/23 [==============================] - 77s 3s/step - loss: 0.6551 - categorical_accuracy: 0.8522 - val_loss: 0.8010 - val_categorical_accuracy: 0.8417\n",
      "\n",
      "Epoch 00022: saving model to model_init_2020-12-2517_25_36.748722/model-00022-0.65512-0.85217-0.80098-0.84167.h5\n",
      "Epoch 23/30\n",
      "23/23 [==============================] - 81s 4s/step - loss: 0.6355 - categorical_accuracy: 0.8725 - val_loss: 0.9412 - val_categorical_accuracy: 0.7583\n",
      "\n",
      "Epoch 00023: saving model to model_init_2020-12-2517_25_36.748722/model-00023-0.63547-0.87246-0.94116-0.75833.h5\n",
      "Epoch 24/30\n",
      "23/23 [==============================] - 86s 4s/step - loss: 0.6425 - categorical_accuracy: 0.8696 - val_loss: 0.9613 - val_categorical_accuracy: 0.7417\n",
      "\n",
      "Epoch 00024: saving model to model_init_2020-12-2517_25_36.748722/model-00024-0.64254-0.86957-0.96125-0.74167.h5\n",
      "\n",
      "Epoch 00024: ReduceLROnPlateau reducing learning rate to 1.000000082740371e-08.\n",
      "Epoch 25/30\n",
      "23/23 [==============================] - 82s 4s/step - loss: 0.6591 - categorical_accuracy: 0.8493 - val_loss: 0.8051 - val_categorical_accuracy: 0.8167\n",
      "\n",
      "Epoch 00025: saving model to model_init_2020-12-2517_25_36.748722/model-00025-0.65906-0.84928-0.80512-0.81667.h5\n",
      "Epoch 26/30\n",
      "23/23 [==============================] - 75s 3s/step - loss: 0.6181 - categorical_accuracy: 0.8812 - val_loss: 0.9414 - val_categorical_accuracy: 0.7500\n",
      "\n",
      "Epoch 00026: saving model to model_init_2020-12-2517_25_36.748722/model-00026-0.61810-0.88116-0.94135-0.75000.h5\n",
      "\n",
      "Epoch 00026: ReduceLROnPlateau reducing learning rate to 1.000000082740371e-09.\n",
      "Epoch 27/30\n",
      "23/23 [==============================] - 84s 4s/step - loss: 0.6421 - categorical_accuracy: 0.8710 - val_loss: 0.9693 - val_categorical_accuracy: 0.7500\n",
      "\n",
      "Epoch 00027: saving model to model_init_2020-12-2517_25_36.748722/model-00027-0.64213-0.87101-0.96927-0.75000.h5\n",
      "Epoch 28/30\n",
      "23/23 [==============================] - 97s 4s/step - loss: 0.6332 - categorical_accuracy: 0.8826 - val_loss: 0.8070 - val_categorical_accuracy: 0.8083\n",
      "\n",
      "Epoch 00028: saving model to model_init_2020-12-2517_25_36.748722/model-00028-0.63320-0.88261-0.80702-0.80833.h5\n"
     ]
    },
    {
     "name": "stdout",
     "output_type": "stream",
     "text": [
      "\n",
      "Epoch 00028: ReduceLROnPlateau reducing learning rate to 1.000000082740371e-10.\n",
      "Epoch 29/30\n",
      "23/23 [==============================] - 86s 4s/step - loss: 0.6289 - categorical_accuracy: 0.8739 - val_loss: 0.8941 - val_categorical_accuracy: 0.7667\n",
      "\n",
      "Epoch 00029: saving model to model_init_2020-12-2517_25_36.748722/model-00029-0.62886-0.87391-0.89409-0.76667.h5\n",
      "Epoch 30/30\n",
      "23/23 [==============================] - 91s 4s/step - loss: 0.6325 - categorical_accuracy: 0.8681 - val_loss: 0.8697 - val_categorical_accuracy: 0.7833\n",
      "\n",
      "Epoch 00030: saving model to model_init_2020-12-2517_25_36.748722/model-00030-0.63252-0.86812-0.86967-0.78333.h5\n",
      "\n",
      "Epoch 00030: ReduceLROnPlateau reducing learning rate to 1.000000082740371e-11.\n"
     ]
    }
   ],
   "source": [
    "model_history = model.fit_generator(train_generator, steps_per_epoch=steps_per_epoch, epochs=num_epochs, verbose=1, \n",
    "                    callbacks=callbacks_list, validation_data=val_generator, \n",
    "                    validation_steps=validation_steps, class_weight=None, workers=1, initial_epoch=0)"
   ]
  },
  {
   "cell_type": "code",
   "execution_count": 18,
   "metadata": {
    "colab": {
     "base_uri": "https://localhost:8080/",
     "height": 162
    },
    "id": "MNZOOt1BL7LK",
    "outputId": "ac103429-e71f-4fde-e777-fd3b7b23a989"
   },
   "outputs": [
    {
     "name": "stdout",
     "output_type": "stream",
     "text": [
      "{'val_loss': [3.188867926597595, 1.9748900532722473, 1.6539734601974487, 1.4648050665855408, 1.2657604217529297, 1.2488224506378174, 1.2841428518295288, 1.224623203277588, 1.0518194437026978, 1.19469353556633, 1.1070913970470428, 0.8996942639350891, 0.9457503706216812, 0.922809898853302, 0.9062499403953552, 0.8741948157548904, 0.8794841170310974, 0.8956004083156586, 0.8584408164024353, 0.8958347141742706, 0.9263288676738739, 0.8009821474552155, 0.9411582797765732, 0.9612542390823364, 0.8051154315471649, 0.941350668668747, 0.9692682921886444, 0.8070221990346909, 0.8940923660993576, 0.869666650891304], 'val_categorical_accuracy': [0.3583333417773247, 0.5249999985098839, 0.46666666865348816, 0.5833333358168602, 0.6499999910593033, 0.6416666805744171, 0.6416666805744171, 0.5416666716337204, 0.625, 0.6333333402872086, 0.6666666865348816, 0.7833333164453506, 0.7333333343267441, 0.75, 0.75, 0.7749999910593033, 0.7749999910593033, 0.783333346247673, 0.783333346247673, 0.7666666507720947, 0.7583333253860474, 0.8416666686534882, 0.7583333402872086, 0.7416666746139526, 0.8166666775941849, 0.7499999850988388, 0.75, 0.8083333224058151, 0.7666666656732559, 0.7833333313465118], 'loss': [4.247182462526404, 2.5883753507033638, 1.829655258551888, 1.601282871287802, 1.4338149661603181, 1.30758303663005, 1.1283835872359897, 1.025545781073363, 1.0008102655410767, 1.0237882318704024, 0.9458482628283293, 0.7913892631945403, 0.7170271096022233, 0.6846238245134768, 0.653999915589457, 0.6598116496334905, 0.6316237786541814, 0.6207508496616198, 0.65112239640692, 0.6353918417640354, 0.6267228515251823, 0.6551185237324756, 0.6354685581248739, 0.6425403563872628, 0.6590638082960377, 0.618100494146347, 0.6421339991300002, 0.633200606574183, 0.6288582540076711, 0.6325176267520242], 'categorical_accuracy': [0.2681159487237101, 0.4028985552165819, 0.5347826156927191, 0.520289861637613, 0.5768116025821023, 0.613043479297472, 0.6608695698821027, 0.7043478359346804, 0.7101449292639027, 0.6840579768885737, 0.7188405783280082, 0.8043478234954502, 0.8347826029943384, 0.8492753557536913, 0.8724637627601624, 0.8681159382281096, 0.8739130393318508, 0.8753623107205266, 0.8536231854687566, 0.8710144810054613, 0.8652173850847327, 0.8521739088970682, 0.872463760168656, 0.8695652122082917, 0.849275353162185, 0.8811594092327616, 0.8710144835969676, 0.8826086909874625, 0.8739130393318508, 0.8681159304535907], 'lr': [0.001, 0.001, 0.001, 0.001, 0.001, 0.001, 0.001, 0.001, 0.001, 0.001, 0.001, 0.000100000005, 0.000100000005, 0.000100000005, 1.0000001e-05, 1.0000001e-05, 1.0000001e-05, 1.0000001e-05, 1.0000001e-06, 1.0000001e-06, 1.0000001e-06, 1.0000001e-07, 1.0000001e-07, 1.0000001e-07, 1.0000001e-08, 1.0000001e-08, 1.0000001e-09, 1.0000001e-09, 1.0000001e-10, 1.0000001e-10]}\n"
     ]
    }
   ],
   "source": [
    "print(model_history.history)"
   ]
  },
  {
   "cell_type": "code",
   "execution_count": 19,
   "metadata": {
    "id": "1EMHvTDrL7LL"
   },
   "outputs": [
    {
     "name": "stdout",
     "output_type": "stream",
     "text": [
      "[0.3583333417773247, 0.5249999985098839, 0.46666666865348816, 0.5833333358168602, 0.6499999910593033, 0.6416666805744171, 0.6416666805744171, 0.5416666716337204, 0.625, 0.6333333402872086, 0.6666666865348816, 0.7833333164453506, 0.7333333343267441, 0.75, 0.75, 0.7749999910593033, 0.7749999910593033, 0.783333346247673, 0.783333346247673, 0.7666666507720947, 0.7583333253860474, 0.8416666686534882, 0.7583333402872086, 0.7416666746139526, 0.8166666775941849, 0.7499999850988388, 0.75, 0.8083333224058151, 0.7666666656732559, 0.7833333313465118]\n"
     ]
    }
   ],
   "source": [
    "print(model_history.history['val_categorical_accuracy'])"
   ]
  },
  {
   "cell_type": "code",
   "execution_count": 20,
   "metadata": {
    "id": "ckvHUk2SL7LL"
   },
   "outputs": [],
   "source": [
    "import matplotlib.pyplot as plt\n",
    "\n",
    "class PlotMetrics():\n",
    "    \n",
    "    def draw(self, history):\n",
    "        # ===> loss summary\n",
    "        \n",
    "        f, (ax1, ax2) = plt.subplots(1, 2, sharey=False)\n",
    "        f.set_figheight(5)\n",
    "        f.set_figwidth(15)\n",
    "        \n",
    "        ax1.plot(history.history['val_categorical_accuracy'])\n",
    "        ax1.plot(history.history['categorical_accuracy'])\n",
    "        ax1.title.set_text('model accuracy')\n",
    "        ax1.set_ylabel('accuracy')\n",
    "        ax1.set_xlabel('epoch')\n",
    "        ax1.legend(['train', 'test'], loc='upper left')\n",
    "        \n",
    "        ax2.plot(history.history['val_loss'])\n",
    "        ax2.plot(history.history['loss'])\n",
    "        ax2.title.set_text('Loss function')\n",
    "        ax2.set_ylabel('Loss')\n",
    "        ax2.set_xlabel('epoch')\n",
    "        ax2.legend(['train', 'test'], loc='upper left')\n",
    "        plt.show()\n",
    "        \n",
    "        "
   ]
  },
  {
   "cell_type": "code",
   "execution_count": 21,
   "metadata": {
    "id": "wZlXTlA2L7LL"
   },
   "outputs": [
    {
     "data": {
      "image/png": "[encoded data removed]",
      "text/plain": [
       "<Figure size 1080x360 with 2 Axes>"
      ]
     },
     "metadata": {},
     "output_type": "display_data"
    }
   ],
   "source": [
    "obj= PlotMetrics()\n",
    "obj.draw(model_history)"
   ]
  },
  {
   "cell_type": "markdown",
   "metadata": {
    "id": "euxU0FirL7LM"
   },
   "source": [
    "### Conv3D Model: "
   ]
  },
  {
   "cell_type": "code",
   "execution_count": 22,
   "metadata": {
    "id": "WnEfC8HML7LM"
   },
   "outputs": [],
   "source": [
    "class convolution3D():\n",
    "    def __init__(self):\n",
    "        return None\n",
    "    \n",
    "    def model(self, batch_size):\n",
    "        model = Sequential()\n",
    "      \n",
    "        model.add(Conv3D(8, kernel_size=(3, 3, 3),activation='relu', padding=\"same\",input_shape=(15, image_x_shape, image_x_shape, 3)))\n",
    "        model.add(MaxPooling3D(pool_size=(2, 2, 2)))\n",
    "        model.add(BatchNormalization())\n",
    "        \n",
    "        model.add(Conv3D(16, kernel_size=(3, 3, 3),activation='relu', padding=\"same\",\n",
    "                         kernel_regularizer=regularizers.l2(0.01),\n",
    "                        bias_regularizer=regularizers.l2(0.01)))\n",
    "        model.add(MaxPooling3D(pool_size=(2, 2, 2)))\n",
    "        model.add(BatchNormalization())\n",
    "        \n",
    "        model.add(Conv3D(32, kernel_size=(3, 3, 3),activation='relu', padding=\"same\",\n",
    "                         kernel_regularizer=regularizers.l2(0.01),\n",
    "                        bias_regularizer=regularizers.l2(0.01)))\n",
    "        model.add(MaxPooling3D(pool_size=(2, 2, 2)))\n",
    "        model.add(BatchNormalization())\n",
    "        \n",
    "        \n",
    "        model.add(Conv3D(32, kernel_size=(3, 3, 3),activation='relu', padding=\"same\",\n",
    "                         kernel_regularizer=regularizers.l2(0.01),\n",
    "                        bias_regularizer=regularizers.l2(0.01)))\n",
    "        model.add(MaxPooling3D(pool_size=(2, 2, 1),dim_ordering='th'))\n",
    "        model.add(BatchNormalization())\n",
    "        \n",
    "        model.add(Conv3D(64, kernel_size=(3, 3, 3),activation='relu', padding=\"same\",\n",
    "                         kernel_regularizer=regularizers.l2(0.01),\n",
    "                        bias_regularizer=regularizers.l2(0.01)))\n",
    "        \n",
    "        model.add(MaxPooling3D(pool_size=(2, 2, 1),dim_ordering='th'))\n",
    "        model.add(BatchNormalization())\n",
    "        \n",
    "        model.add(Conv3D(128, kernel_size=(3, 3, 3),activation='relu', padding=\"same\",\n",
    "                         kernel_regularizer=regularizers.l2(0.01),\n",
    "                        bias_regularizer=regularizers.l2(0.01)))\n",
    "        model.add(MaxPooling3D(pool_size=(2, 2, 2),dim_ordering='th'))\n",
    "        model.add(BatchNormalization())\n",
    "        \n",
    "       \n",
    "        model.add(Dropout(0.25))\n",
    "        model.add(Flatten())\n",
    "        model.add(Dense(256,activation='relu'))\n",
    "        model.add(Dropout(0.5))\n",
    "        model.add(Dense(128,activation='relu'))\n",
    "        model.add(Dropout(0.5))\n",
    "        model.add(Dense(64,activation='relu'))\n",
    "        model.add(Dropout(0.5))\n",
    "        model.add(Dense(5, activation='softmax'))\n",
    "        return model"
   ]
  },
  {
   "cell_type": "code",
   "execution_count": 23,
   "metadata": {
    "id": "W5KOVZpEL7LM"
   },
   "outputs": [
    {
     "name": "stderr",
     "output_type": "stream",
     "text": [
      "/mnt/disks/user/anaconda3/lib/python3.6/site-packages/ipykernel_launcher.py:28: UserWarning: Update your `MaxPooling3D` call to the Keras 2 API: `MaxPooling3D(pool_size=(2, 2, 1), data_format=\"channels_first\")`\n",
      "/mnt/disks/user/anaconda3/lib/python3.6/site-packages/ipykernel_launcher.py:35: UserWarning: Update your `MaxPooling3D` call to the Keras 2 API: `MaxPooling3D(pool_size=(2, 2, 1), data_format=\"channels_first\")`\n",
      "/mnt/disks/user/anaconda3/lib/python3.6/site-packages/ipykernel_launcher.py:41: UserWarning: Update your `MaxPooling3D` call to the Keras 2 API: `MaxPooling3D(pool_size=(2, 2, 2), data_format=\"channels_first\")`\n"
     ]
    },
    {
     "name": "stdout",
     "output_type": "stream",
     "text": [
      "_________________________________________________________________\n",
      "Layer (type)                 Output Shape              Param #   \n",
      "=================================================================\n",
      "conv3d_1 (Conv3D)            (None, 15, 84, 84, 8)     656       \n",
      "_________________________________________________________________\n",
      "max_pooling3d_1 (MaxPooling3 (None, 7, 42, 42, 8)      0         \n",
      "_________________________________________________________________\n",
      "batch_normalization_4 (Batch (None, 7, 42, 42, 8)      32        \n",
      "_________________________________________________________________\n",
      "conv3d_2 (Conv3D)            (None, 7, 42, 42, 16)     3472      \n",
      "_________________________________________________________________\n",
      "max_pooling3d_2 (MaxPooling3 (None, 3, 21, 21, 16)     0         \n",
      "_________________________________________________________________\n",
      "batch_normalization_5 (Batch (None, 3, 21, 21, 16)     64        \n",
      "_________________________________________________________________\n",
      "conv3d_3 (Conv3D)            (None, 3, 21, 21, 32)     13856     \n",
      "_________________________________________________________________\n",
      "max_pooling3d_3 (MaxPooling3 (None, 1, 10, 10, 32)     0         \n",
      "_________________________________________________________________\n",
      "batch_normalization_6 (Batch (None, 1, 10, 10, 32)     128       \n",
      "_________________________________________________________________\n",
      "conv3d_4 (Conv3D)            (None, 1, 10, 10, 32)     27680     \n",
      "_________________________________________________________________\n",
      "max_pooling3d_4 (MaxPooling3 (None, 1, 5, 5, 32)       0         \n",
      "_________________________________________________________________\n",
      "batch_normalization_7 (Batch (None, 1, 5, 5, 32)       128       \n",
      "_________________________________________________________________\n",
      "conv3d_5 (Conv3D)            (None, 1, 5, 5, 64)       55360     \n",
      "_________________________________________________________________\n",
      "max_pooling3d_5 (MaxPooling3 (None, 1, 2, 2, 64)       0         \n",
      "_________________________________________________________________\n",
      "batch_normalization_8 (Batch (None, 1, 2, 2, 64)       256       \n",
      "_________________________________________________________________\n",
      "conv3d_6 (Conv3D)            (None, 1, 2, 2, 128)      221312    \n",
      "_________________________________________________________________\n",
      "max_pooling3d_6 (MaxPooling3 (None, 1, 1, 1, 64)       0         \n",
      "_________________________________________________________________\n",
      "batch_normalization_9 (Batch (None, 1, 1, 1, 64)       256       \n",
      "_________________________________________________________________\n",
      "dropout_5 (Dropout)          (None, 1, 1, 1, 64)       0         \n",
      "_________________________________________________________________\n",
      "flatten_2 (Flatten)          (None, 64)                0         \n",
      "_________________________________________________________________\n",
      "dense_3 (Dense)              (None, 256)               16640     \n",
      "_________________________________________________________________\n",
      "dropout_6 (Dropout)          (None, 256)               0         \n",
      "_________________________________________________________________\n",
      "dense_4 (Dense)              (None, 128)               32896     \n",
      "_________________________________________________________________\n",
      "dropout_7 (Dropout)          (None, 128)               0         \n",
      "_________________________________________________________________\n",
      "dense_5 (Dense)              (None, 64)                8256      \n",
      "_________________________________________________________________\n",
      "dropout_8 (Dropout)          (None, 64)                0         \n",
      "_________________________________________________________________\n",
      "dense_6 (Dense)              (None, 5)                 325       \n",
      "=================================================================\n",
      "Total params: 381,317\n",
      "Trainable params: 380,885\n",
      "Non-trainable params: 432\n",
      "_________________________________________________________________\n",
      "None\n"
     ]
    }
   ],
   "source": [
    "obj = convolution3D()\n",
    "conv3d_model = obj.model(batch_size)\n",
    "conv3d_optimiser = optimizers.Adam() #write your optimizer\n",
    "\n",
    "conv3d_model.compile(optimizer=conv3d_optimiser, loss='categorical_crossentropy', metrics=['categorical_accuracy'])\n",
    "print (conv3d_model.summary())"
   ]
  },
  {
   "cell_type": "code",
   "execution_count": 24,
   "metadata": {
    "id": "wV6InKulL7LN"
   },
   "outputs": [],
   "source": [
    "model_name = 'model_init' + '_' + str(curr_dt_time).replace(' ','').replace(':','_') + '/'\n",
    "    \n",
    "if not os.path.exists(model_name):\n",
    "    os.mkdir(model_name)\n",
    "        \n",
    "filepath = model_name + 'model_3d-{epoch:05d}-{loss:.5f}-{categorical_accuracy:.5f}-{val_loss:.5f}-{val_categorical_accuracy:.5f}.h5'\n",
    "\n",
    "checkpoint = ModelCheckpoint(filepath, monitor='val_loss', verbose=1, save_best_only=False, save_weights_only=False, mode='auto', period=1)\n",
    "\n",
    "LR = DecayLR(base_lr=0.1) # write the REducelronplateau code here\n",
    "# callbacks_list = [checkpoint, LR]\n",
    "# roc_callback = RocCallback()\n",
    "callbacks_list = [reduceLR,checkpoint]"
   ]
  },
  {
   "cell_type": "code",
   "execution_count": 25,
   "metadata": {
    "id": "wR9bvhDbL7LN",
    "scrolled": false
   },
   "outputs": [
    {
     "name": "stdout",
     "output_type": "stream",
     "text": [
      "Epoch 1/30\n"
     ]
    },
    {
     "name": "stderr",
     "output_type": "stream",
     "text": [
      "/mnt/disks/user/anaconda3/lib/python3.6/site-packages/skimage/transform/_warps.py:105: UserWarning: The default mode, 'constant', will be changed to 'reflect' in skimage 0.15.\n",
      "  warn(\"The default mode, 'constant', will be changed to 'reflect' in \"\n"
     ]
    },
    {
     "name": "stdout",
     "output_type": "stream",
     "text": [
      "23/23 [==============================] - 96s 4s/step - loss: 3.3093 - categorical_accuracy: 0.2188 - val_loss: 2.4835 - val_categorical_accuracy: 0.3833\n",
      "\n",
      "Epoch 00001: saving model to model_init_2020-12-2517_25_36.748722/model_3d-00001-3.30930-0.21884-2.48348-0.38333.h5\n",
      "Epoch 2/30\n",
      "23/23 [==============================] - 87s 4s/step - loss: 2.5961 - categorical_accuracy: 0.2464 - val_loss: 2.3227 - val_categorical_accuracy: 0.3667\n",
      "\n",
      "Epoch 00002: saving model to model_init_2020-12-2517_25_36.748722/model_3d-00002-2.59606-0.24638-2.32270-0.36667.h5\n",
      "Epoch 3/30\n",
      "23/23 [==============================] - 89s 4s/step - loss: 2.4826 - categorical_accuracy: 0.2870 - val_loss: 2.2333 - val_categorical_accuracy: 0.4083\n",
      "\n",
      "Epoch 00003: saving model to model_init_2020-12-2517_25_36.748722/model_3d-00003-2.48264-0.28696-2.23327-0.40833.h5\n",
      "Epoch 4/30\n",
      "23/23 [==============================] - 90s 4s/step - loss: 2.3785 - categorical_accuracy: 0.3507 - val_loss: 2.0809 - val_categorical_accuracy: 0.5417\n",
      "\n",
      "Epoch 00004: saving model to model_init_2020-12-2517_25_36.748722/model_3d-00004-2.37854-0.35072-2.08094-0.54167.h5\n",
      "Epoch 5/30\n",
      "23/23 [==============================] - 98s 4s/step - loss: 2.3027 - categorical_accuracy: 0.4014 - val_loss: 2.0604 - val_categorical_accuracy: 0.5417\n",
      "\n",
      "Epoch 00005: saving model to model_init_2020-12-2517_25_36.748722/model_3d-00005-2.30273-0.40145-2.06041-0.54167.h5\n",
      "Epoch 6/30\n",
      "23/23 [==============================] - 81s 4s/step - loss: 2.2301 - categorical_accuracy: 0.3696 - val_loss: 2.1301 - val_categorical_accuracy: 0.3833\n",
      "\n",
      "Epoch 00006: saving model to model_init_2020-12-2517_25_36.748722/model_3d-00006-2.23007-0.36957-2.13005-0.38333.h5\n",
      "Epoch 7/30\n",
      "23/23 [==============================] - 78s 3s/step - loss: 2.1034 - categorical_accuracy: 0.4043 - val_loss: 1.9632 - val_categorical_accuracy: 0.4917\n",
      "\n",
      "Epoch 00007: saving model to model_init_2020-12-2517_25_36.748722/model_3d-00007-2.10344-0.40435-1.96319-0.49167.h5\n",
      "Epoch 8/30\n",
      "23/23 [==============================] - 76s 3s/step - loss: 2.1043 - categorical_accuracy: 0.4464 - val_loss: 1.8244 - val_categorical_accuracy: 0.6083\n",
      "\n",
      "Epoch 00008: saving model to model_init_2020-12-2517_25_36.748722/model_3d-00008-2.10428-0.44638-1.82440-0.60833.h5\n",
      "Epoch 9/30\n",
      "23/23 [==============================] - 87s 4s/step - loss: 1.9307 - categorical_accuracy: 0.5072 - val_loss: 1.7877 - val_categorical_accuracy: 0.5833\n",
      "\n",
      "Epoch 00009: saving model to model_init_2020-12-2517_25_36.748722/model_3d-00009-1.93066-0.50725-1.78773-0.58333.h5\n",
      "Epoch 10/30\n",
      "23/23 [==============================] - 89s 4s/step - loss: 1.8697 - categorical_accuracy: 0.5493 - val_loss: 1.7789 - val_categorical_accuracy: 0.5500\n",
      "\n",
      "Epoch 00010: saving model to model_init_2020-12-2517_25_36.748722/model_3d-00010-1.86971-0.54928-1.77886-0.55000.h5\n",
      "Epoch 11/30\n",
      "23/23 [==============================] - 84s 4s/step - loss: 1.7824 - categorical_accuracy: 0.5899 - val_loss: 1.8327 - val_categorical_accuracy: 0.6167\n",
      "\n",
      "Epoch 00011: saving model to model_init_2020-12-2517_25_36.748722/model_3d-00011-1.78242-0.58986-1.83271-0.61667.h5\n",
      "Epoch 12/30\n",
      "23/23 [==============================] - 81s 4s/step - loss: 1.6635 - categorical_accuracy: 0.5971 - val_loss: 1.7848 - val_categorical_accuracy: 0.6500\n",
      "\n",
      "Epoch 00012: ReduceLROnPlateau reducing learning rate to 0.00010000000474974513.\n",
      "\n",
      "Epoch 00012: saving model to model_init_2020-12-2517_25_36.748722/model_3d-00012-1.66348-0.59710-1.78481-0.65000.h5\n",
      "Epoch 13/30\n",
      "23/23 [==============================] - 77s 3s/step - loss: 1.5680 - categorical_accuracy: 0.6565 - val_loss: 1.6956 - val_categorical_accuracy: 0.6167\n",
      "\n",
      "Epoch 00013: saving model to model_init_2020-12-2517_25_36.748722/model_3d-00013-1.56804-0.65652-1.69556-0.61667.h5\n",
      "Epoch 14/30\n",
      "23/23 [==============================] - 91s 4s/step - loss: 1.5337 - categorical_accuracy: 0.6913 - val_loss: 1.6529 - val_categorical_accuracy: 0.6333\n",
      "\n",
      "Epoch 00014: saving model to model_init_2020-12-2517_25_36.748722/model_3d-00014-1.53372-0.69130-1.65292-0.63333.h5\n",
      "Epoch 15/30\n",
      "23/23 [==============================] - 96s 4s/step - loss: 1.5082 - categorical_accuracy: 0.6957 - val_loss: 1.6284 - val_categorical_accuracy: 0.6500\n",
      "\n",
      "Epoch 00015: saving model to model_init_2020-12-2517_25_36.748722/model_3d-00015-1.50816-0.69565-1.62835-0.65000.h5\n",
      "Epoch 16/30\n",
      "23/23 [==============================] - 86s 4s/step - loss: 1.4824 - categorical_accuracy: 0.7174 - val_loss: 1.5946 - val_categorical_accuracy: 0.6667\n",
      "\n",
      "Epoch 00016: saving model to model_init_2020-12-2517_25_36.748722/model_3d-00016-1.48243-0.71739-1.59463-0.66667.h5\n",
      "Epoch 17/30\n",
      "23/23 [==============================] - 96s 4s/step - loss: 1.4418 - categorical_accuracy: 0.7290 - val_loss: 1.4691 - val_categorical_accuracy: 0.7583\n",
      "\n",
      "Epoch 00017: saving model to model_init_2020-12-2517_25_36.748722/model_3d-00017-1.44181-0.72899-1.46905-0.75833.h5\n",
      "Epoch 18/30\n",
      "23/23 [==============================] - 76s 3s/step - loss: 1.3999 - categorical_accuracy: 0.7420 - val_loss: 1.4865 - val_categorical_accuracy: 0.6833\n",
      "\n",
      "Epoch 00018: saving model to model_init_2020-12-2517_25_36.748722/model_3d-00018-1.39991-0.74203-1.48651-0.68333.h5\n",
      "Epoch 19/30\n",
      "23/23 [==============================] - 92s 4s/step - loss: 1.4294 - categorical_accuracy: 0.7290 - val_loss: 1.4851 - val_categorical_accuracy: 0.7333\n",
      "\n",
      "Epoch 00019: ReduceLROnPlateau reducing learning rate to 1.0000000474974514e-05.\n",
      "\n",
      "Epoch 00019: saving model to model_init_2020-12-2517_25_36.748722/model_3d-00019-1.42941-0.72899-1.48514-0.73333.h5\n",
      "Epoch 20/30\n",
      "23/23 [==============================] - 97s 4s/step - loss: 1.3836 - categorical_accuracy: 0.7565 - val_loss: 1.5037 - val_categorical_accuracy: 0.7250\n",
      "\n",
      "Epoch 00020: saving model to model_init_2020-12-2517_25_36.748722/model_3d-00020-1.38362-0.75652-1.50368-0.72500.h5\n",
      "Epoch 21/30\n",
      "23/23 [==============================] - 84s 4s/step - loss: 1.3565 - categorical_accuracy: 0.7565 - val_loss: 1.5203 - val_categorical_accuracy: 0.7000\n",
      "\n",
      "Epoch 00021: ReduceLROnPlateau reducing learning rate to 1.0000000656873453e-06.\n",
      "\n",
      "Epoch 00021: saving model to model_init_2020-12-2517_25_36.748722/model_3d-00021-1.35652-0.75652-1.52033-0.70000.h5\n",
      "Epoch 22/30\n",
      "23/23 [==============================] - 90s 4s/step - loss: 1.3691 - categorical_accuracy: 0.7623 - val_loss: 1.4792 - val_categorical_accuracy: 0.7083\n",
      "\n",
      "Epoch 00022: saving model to model_init_2020-12-2517_25_36.748722/model_3d-00022-1.36905-0.76232-1.47917-0.70833.h5\n",
      "Epoch 23/30\n",
      "23/23 [==============================] - 76s 3s/step - loss: 1.3588 - categorical_accuracy: 0.7623 - val_loss: 1.4915 - val_categorical_accuracy: 0.6833\n",
      "\n",
      "Epoch 00023: ReduceLROnPlateau reducing learning rate to 1.0000001111620805e-07.\n",
      "\n",
      "Epoch 00023: saving model to model_init_2020-12-2517_25_36.748722/model_3d-00023-1.35885-0.76232-1.49151-0.68333.h5\n",
      "Epoch 24/30\n",
      "23/23 [==============================] - 78s 3s/step - loss: 1.3445 - categorical_accuracy: 0.7551 - val_loss: 1.4924 - val_categorical_accuracy: 0.6750\n",
      "\n",
      "Epoch 00024: saving model to model_init_2020-12-2517_25_36.748722/model_3d-00024-1.34454-0.75507-1.49244-0.67500.h5\n",
      "Epoch 25/30\n",
      "23/23 [==============================] - 94s 4s/step - loss: 1.3626 - categorical_accuracy: 0.7464 - val_loss: 1.5218 - val_categorical_accuracy: 0.6667\n",
      "\n",
      "Epoch 00025: ReduceLROnPlateau reducing learning rate to 1.000000082740371e-08.\n",
      "\n",
      "Epoch 00025: saving model to model_init_2020-12-2517_25_36.748722/model_3d-00025-1.36260-0.74638-1.52179-0.66667.h5\n",
      "Epoch 26/30\n",
      "23/23 [==============================] - 78s 3s/step - loss: 1.3523 - categorical_accuracy: 0.7681 - val_loss: 1.5045 - val_categorical_accuracy: 0.6667\n",
      "\n",
      "Epoch 00026: saving model to model_init_2020-12-2517_25_36.748722/model_3d-00026-1.35230-0.76812-1.50451-0.66667.h5\n",
      "Epoch 27/30\n",
      "23/23 [==============================] - 96s 4s/step - loss: 1.3295 - categorical_accuracy: 0.7783 - val_loss: 1.5057 - val_categorical_accuracy: 0.6667\n",
      "\n",
      "Epoch 00027: ReduceLROnPlateau reducing learning rate to 1.000000082740371e-09.\n",
      "\n",
      "Epoch 00027: saving model to model_init_2020-12-2517_25_36.748722/model_3d-00027-1.32955-0.77826-1.50572-0.66667.h5\n",
      "Epoch 28/30\n",
      "23/23 [==============================] - 85s 4s/step - loss: 1.3899 - categorical_accuracy: 0.7362 - val_loss: 1.4930 - val_categorical_accuracy: 0.7000\n"
     ]
    },
    {
     "name": "stdout",
     "output_type": "stream",
     "text": [
      "\n",
      "Epoch 00028: saving model to model_init_2020-12-2517_25_36.748722/model_3d-00028-1.38989-0.73623-1.49303-0.70000.h5\n",
      "Epoch 29/30\n",
      "23/23 [==============================] - 80s 3s/step - loss: 1.3534 - categorical_accuracy: 0.7420 - val_loss: 1.4768 - val_categorical_accuracy: 0.6833\n",
      "\n",
      "Epoch 00029: ReduceLROnPlateau reducing learning rate to 1.000000082740371e-10.\n",
      "\n",
      "Epoch 00029: saving model to model_init_2020-12-2517_25_36.748722/model_3d-00029-1.35335-0.74203-1.47678-0.68333.h5\n",
      "Epoch 30/30\n",
      "23/23 [==============================] - 78s 3s/step - loss: 1.3254 - categorical_accuracy: 0.7899 - val_loss: 1.3962 - val_categorical_accuracy: 0.7333\n",
      "\n",
      "Epoch 00030: saving model to model_init_2020-12-2517_25_36.748722/model_3d-00030-1.32538-0.78986-1.39620-0.73333.h5\n"
     ]
    }
   ],
   "source": [
    "conv3d_model_history = conv3d_model.fit_generator(train_generator,\n",
    "                                           steps_per_epoch=steps_per_epoch,\n",
    "                                           epochs=num_epochs,\n",
    "                                           verbose=1,\n",
    "                                           callbacks=callbacks_list,\n",
    "                                           validation_data=val_generator,\n",
    "                                           validation_steps=validation_steps,\n",
    "                                           class_weight=None,\n",
    "                                           workers=1,\n",
    "                                           initial_epoch=0)"
   ]
  },
  {
   "cell_type": "code",
   "execution_count": 26,
   "metadata": {
    "id": "tqB-dUsoL7LN"
   },
   "outputs": [
    {
     "name": "stdout",
     "output_type": "stream",
     "text": [
      "{'val_loss': [2.4834765195846558, 2.3227004408836365, 2.2332693934440613, 2.0809385180473328, 2.0604117810726166, 2.1300538182258606, 1.9631943106651306, 1.8243968486785889, 1.7877317368984222, 1.7788569629192352, 1.8327062726020813, 1.784808099269867, 1.695555955171585, 1.6529184579849243, 1.6283514201641083, 1.5946317315101624, 1.4690523743629456, 1.4865054488182068, 1.4851421117782593, 1.503682017326355, 1.5203335881233215, 1.4791677296161652, 1.4915139973163605, 1.492444932460785, 1.5217892825603485, 1.504506766796112, 1.5057207942008972, 1.4930329322814941, 1.4767840504646301, 1.3961952924728394], 'val_categorical_accuracy': [0.38333334028720856, 0.36666667461395264, 0.40833333879709244, 0.5416666865348816, 0.5416666641831398, 0.38333333656191826, 0.49166667461395264, 0.6083333343267441, 0.5833333432674408, 0.550000011920929, 0.6166666746139526, 0.6500000059604645, 0.6166666895151138, 0.6333333402872086, 0.6500000059604645, 0.6666666865348816, 0.7583333402872086, 0.6833333224058151, 0.7333333492279053, 0.7249999940395355, 0.699999988079071, 0.7083333283662796, 0.6833333373069763, 0.675000011920929, 0.6666666716337204, 0.6666666716337204, 0.6666666567325592, 0.699999988079071, 0.6833333373069763, 0.7333333343267441], 'loss': [3.309298173240993, 2.5960560881573223, 2.482636441355166, 2.378537126209425, 2.3027341469474463, 2.230073058086893, 2.1034354748933213, 2.1042829130006875, 1.9306553343067998, 1.869708724643873, 1.782415027203767, 1.663476736649223, 1.568043387454489, 1.533723877823871, 1.5081571185070535, 1.4824345992959065, 1.4418103383935017, 1.3999107765114827, 1.4294144018836643, 1.383624527765357, 1.3565155112225076, 1.3690549498019011, 1.3588496964910757, 1.3445443744244783, 1.3626012750293897, 1.3522976222245588, 1.3295485558717146, 1.389888328054677, 1.3533508777618408, 1.3253820616266], 'categorical_accuracy': [0.21884058577858884, 0.24637682023255722, 0.28695652860662213, 0.3507246452829112, 0.4014492812363998, 0.36956522516582324, 0.40434783437977667, 0.44637681802977686, 0.5072463906329611, 0.5492753723393315, 0.5898550787697667, 0.5971014590367026, 0.6565217453500499, 0.6913043493809907, 0.6956521765045498, 0.717391304347826, 0.728985511738321, 0.7420289853344793, 0.7289855039638021, 0.7565217380938323, 0.7565217406853385, 0.7623188469720923, 0.7623188391975735, 0.7550724615221438, 0.7463768150495447, 0.7681159480758335, 0.7782608685286149, 0.7362318868222444, 0.7420289905174918, 0.7898550707360973], 'lr': [0.001, 0.001, 0.001, 0.001, 0.001, 0.001, 0.001, 0.001, 0.001, 0.001, 0.001, 0.001, 0.000100000005, 0.000100000005, 0.000100000005, 0.000100000005, 0.000100000005, 0.000100000005, 0.000100000005, 1.0000001e-05, 1.0000001e-05, 1.0000001e-06, 1.0000001e-06, 1.0000001e-07, 1.0000001e-07, 1.0000001e-08, 1.0000001e-08, 1.0000001e-09, 1.0000001e-09, 1.0000001e-10]}\n"
     ]
    },
    {
     "data": {
      "image/png": "[encoded data removed]",
      "text/plain": [
       "<Figure size 1080x360 with 2 Axes>"
      ]
     },
     "metadata": {},
     "output_type": "display_data"
    }
   ],
   "source": [
    "print(conv3d_model_history.history)\n",
    "obj= PlotMetrics()\n",
    "obj.draw(conv3d_model_history)"
   ]
  },
  {
   "cell_type": "code",
   "execution_count": null,
   "metadata": {
    "id": "kHXpGBCwL7LO"
   },
   "outputs": [],
   "source": []
  }
 ],
 "metadata": {
  "accelerator": "GPU",
  "colab": {
   "name": "Vinay_Neural_Nets_Project_Starter_Code.ipynb",
   "provenance": []
  },
  "kernelspec": {
   "display_name": "Python 3",
   "language": "python",
   "name": "python3"
  },
  "language_info": {
   "codemirror_mode": {
    "name": "ipython",
    "version": 3
   },
   "file_extension": ".py",
   "mimetype": "text/x-python",
   "name": "python",
   "nbconvert_exporter": "python",
   "pygments_lexer": "ipython3",
   "version": "3.8.3"
  }
 },
 "nbformat": 4,
 "nbformat_minor": 1
}
